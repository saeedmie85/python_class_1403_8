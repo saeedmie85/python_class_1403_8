{
 "cells": [
  {
   "cell_type": "code",
   "execution_count": null,
   "metadata": {},
   "outputs": [],
   "source": [
    "#1\n",
    "patron = input('patron?')\n",
    "if patron == 'full':\n",
    "    we = float(input('W_E? '))\n",
    "    if 0 <= we < 10:\n",
    "        print('yes')\n",
    "    elif 10 <= we < 30:\n",
    "        hungry = input('hungry? ')\n",
    "        if hungry == 'yes':\n",
    "            pass\n",
    "        elif hungry == 'no':\n",
    "            print('yes')\n",
    "        else:\n",
    "            print('wrong entry')\n",
    "    elif 30 <= we < 60:\n",
    "        pass\n",
    "    else:\n",
    "        print('no')\n",
    "elif patron == 'some':\n",
    "    print('yes')\n",
    "elif patron == 'none':\n",
    "    print('no')\n",
    "else:\n",
    "    print('wrong entry')"
   ]
  },
  {
   "cell_type": "code",
   "execution_count": 2,
   "metadata": {},
   "outputs": [
    {
     "name": "stdout",
     "output_type": "stream",
     "text": [
      "In 300 there is 0years and 0weeks and 0days\n"
     ]
    }
   ],
   "source": [
    "#2\n",
    "in_days = int(input('please enter your days: '))\n",
    "years = in_days // 365\n",
    "remain_days = years % 365\n",
    "week = remain_days // 7\n",
    "days = remain_days % 7\n",
    "print(f'In {in_days} there is {years}years and {week}weeks and {days}days')"
   ]
  },
  {
   "cell_type": "code",
   "execution_count": 3,
   "metadata": {},
   "outputs": [
    {
     "data": {
      "text/plain": [
       "30.0"
      ]
     },
     "execution_count": 3,
     "metadata": {},
     "output_type": "execute_result"
    }
   ],
   "source": [
    "a = float(input('a: '))\n",
    "b = float(input('b: '))\n",
    "c = float(input('c: '))\n",
    "(a + b + c ) / 3"
   ]
  }
 ],
 "metadata": {
  "kernelspec": {
   "display_name": "Python 3",
   "language": "python",
   "name": "python3"
  },
  "language_info": {
   "codemirror_mode": {
    "name": "ipython",
    "version": 3
   },
   "file_extension": ".py",
   "mimetype": "text/x-python",
   "name": "python",
   "nbconvert_exporter": "python",
   "pygments_lexer": "ipython3",
   "version": "3.10.7"
  }
 },
 "nbformat": 4,
 "nbformat_minor": 2
}
